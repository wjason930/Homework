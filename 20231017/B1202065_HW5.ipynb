{
  "nbformat": 4,
  "nbformat_minor": 0,
  "metadata": {
    "colab": {
      "provenance": []
    },
    "kernelspec": {
      "name": "python3",
      "display_name": "Python 3"
    },
    "language_info": {
      "name": "python"
    }
  },
  "cells": [
    {
      "cell_type": "code",
      "execution_count": 12,
      "metadata": {
        "colab": {
          "base_uri": "https://localhost:8080/"
        },
        "id": "FiQ6zetSuVC8",
        "outputId": "cf441dfe-fcfa-40d4-af2c-2139d104783e"
      },
      "outputs": [
        {
          "output_type": "stream",
          "name": "stdout",
          "text": [
            "        *        \n",
            "       ***       \n",
            "      *****      \n",
            "     *******     \n",
            "    *********    \n",
            "   ***********   \n",
            "  *************  \n",
            " *************** \n",
            "*****************\n",
            "       ***       \n",
            "       ***       \n",
            "       ***       \n",
            "       ***       \n",
            "       ***       \n"
          ]
        }
      ],
      "source": [
        "for i in range (1,10):\n",
        "  for j in range (9-i):\n",
        "    print (\" \",end=\"\")\n",
        "  for k in range (2*i-1):\n",
        "    print (\"*\",end=\"\")\n",
        "  for m in range (9-i):\n",
        "    print (\" \",end=\"\")\n",
        "  print ()\n",
        "for n in range (5):\n",
        "  for a in range (7):\n",
        "    print (\" \",end=\"\")\n",
        "  for b in range ():\n",
        "    print (\"*\",end=\"\")\n",
        "  for c in range (7):\n",
        "    print (\" \",end=\"\")\n",
        "  print ()"
      ]
    },
    {
      "cell_type": "code",
      "source": [
        "import random\n",
        "ans=random.sample(range(1,10),4)\n",
        "print (\"答案:\",ans)\n",
        "a=b=i=n=0\n",
        "while a<4:\n",
        "  a=b=i=0\n",
        "  num=list(input('輸入四個數字(不會重複):'))\n",
        "  while len(num)!=4:\n",
        "    num=list(input('輸入數字過多，請輸入四個數字(不會重複):'))\n",
        "  for i in range(4):\n",
        "    if int(num[i])==ans[i]:\n",
        "      a+=1\n",
        "    elif int(num[i]) in ans:\n",
        "      b+=1\n",
        "    i+=1\n",
        "  n+=1\n",
        "  print (f'{\"\".join(num)}:{a}A{b}B')\n",
        "print (f'答對了!總共猜了{n}次')\n",
        ""
      ],
      "metadata": {
        "colab": {
          "base_uri": "https://localhost:8080/"
        },
        "id": "YuvOnY_kj2nF",
        "outputId": "ed9bc7c3-78d7-47c4-d5ff-a33788ac48b9"
      },
      "execution_count": 39,
      "outputs": [
        {
          "output_type": "stream",
          "name": "stdout",
          "text": [
            "答案: [8, 1, 9, 3]\n",
            "輸入四個數字(不會重複):12345\n",
            "輸入數字過多，請輸入四個數字(不會重複):8195\n",
            "8195:3A0B\n",
            "輸入四個數字(不會重複):8564\n",
            "8564:1A0B\n",
            "輸入四個數字(不會重複):8431\n",
            "8431:1A2B\n",
            "輸入四個數字(不會重複):8193\n",
            "8193:4A0B\n",
            "答對了!總共猜了4次\n"
          ]
        }
      ]
    }
  ]
}