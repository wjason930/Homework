{
  "nbformat": 4,
  "nbformat_minor": 0,
  "metadata": {
    "colab": {
      "provenance": []
    },
    "kernelspec": {
      "name": "python3",
      "display_name": "Python 3"
    },
    "language_info": {
      "name": "python"
    }
  },
  "cells": [
    {
      "cell_type": "code",
      "source": [
        "empty_list=input('輸入分數:(以空白鍵分開)')\n",
        "grade_list=empty_list.split()\n",
        "for i in range(5):\n",
        "  grade_list[i]=int(grade_list[i])\n",
        "grade_list.sort()\n",
        "del grade_list[0]\n",
        "del grade_list[-1]\n",
        "ave=sum(grade_list)/3\n",
        "print ('去除最高和最低分後平均:',ave)"
      ],
      "metadata": {
        "colab": {
          "base_uri": "https://localhost:8080/"
        },
        "id": "YrZ5OvS08xSJ",
        "outputId": "ed2c483c-86c9-49d5-dcec-843d3d55ac55"
      },
      "execution_count": 28,
      "outputs": [
        {
          "output_type": "stream",
          "name": "stdout",
          "text": [
            "輸入分數:(以空白鍵分開)100 90 80 70 60\n",
            "[60, 70, 80, 90, 100]\n",
            "去除最高和最低分後平均: 80.0\n"
          ]
        }
      ]
    },
    {
      "cell_type": "code",
      "source": [
        "a=float(input('輸入第一個數字:'))\n",
        "cal=input('輸入計算符號:')\n",
        "b=float(input('輸入第二個數字:'))\n",
        "if cal=='+':\n",
        "  print ('結果為:',a+b)\n",
        "elif cal=='-':\n",
        "  print ('結果為:',a-b)\n",
        "elif cal=='*':\n",
        "  print ('結果為:',a*b)\n",
        "else:\n",
        "  print ('結果為:',a/b)\n"
      ],
      "metadata": {
        "colab": {
          "base_uri": "https://localhost:8080/"
        },
        "id": "r0GpHuRMH4vI",
        "outputId": "f89d0c05-a2db-4f84-d3d9-6acfadb37a1f"
      },
      "execution_count": null,
      "outputs": [
        {
          "output_type": "stream",
          "name": "stdout",
          "text": [
            "輸入第一個數字:10\n",
            "輸入計算符號:/\n",
            "輸入第二個數字:5\n",
            "結果為: 2.0\n"
          ]
        }
      ]
    },
    {
      "cell_type": "code",
      "source": [
        "year=int(input('請輸入西元年:'))\n",
        "if year<=1582:\n",
        "  if year%4==0:\n",
        "    print (str(year)+\"年是閏年\")\n",
        "  else:\n",
        "    print (str(year)+\"年是平年\")\n",
        "elif year%4==0 and year%100==0 and year%400==0:\n",
        "  print (str(year)+\"年是閏年\")\n",
        "elif year%4==0 and year%100!=0:\n",
        "  print (str(year)+\"年是閏年\")\n",
        "else:\n",
        "  print (str(year)+\"年是平年\")"
      ],
      "metadata": {
        "colab": {
          "base_uri": "https://localhost:8080/"
        },
        "id": "Df6o4DJI_69L",
        "outputId": "05614d48-2c37-4a55-8ab0-48fed6a4261f"
      },
      "execution_count": 41,
      "outputs": [
        {
          "output_type": "stream",
          "name": "stdout",
          "text": [
            "請輸入西元年:2100\n",
            "2100年是平年\n"
          ]
        }
      ]
    }
  ]
}