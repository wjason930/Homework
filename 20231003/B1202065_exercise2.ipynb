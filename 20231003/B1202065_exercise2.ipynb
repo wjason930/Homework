{
  "nbformat": 4,
  "nbformat_minor": 0,
  "metadata": {
    "colab": {
      "provenance": []
    },
    "kernelspec": {
      "name": "python3",
      "display_name": "Python 3"
    },
    "language_info": {
      "name": "python"
    }
  },
  "cells": [
    {
      "cell_type": "code",
      "execution_count": null,
      "metadata": {
        "colab": {
          "base_uri": "https://localhost:8080/"
        },
        "id": "mHOK0Bigcyt8",
        "outputId": "1a2a20d4-4d51-4bf7-e8b0-c7b87839fa23"
      },
      "outputs": [
        {
          "output_type": "stream",
          "name": "stdout",
          "text": [
            "A\n",
            "['K', 'H', 'U']\n"
          ]
        }
      ],
      "source": [
        "a='C,B,A'\n",
        "b=['F','G','H']\n",
        "c=a.split(',')+b\n",
        "c[0]='K'\n",
        "print (c.pop(2))\n",
        "del c[1:4]\n",
        "c.append('U')\n",
        "print (c)"
      ]
    },
    {
      "cell_type": "code",
      "source": [
        "w=float (input ('輸入體重(kg):'))\n",
        "h=float (input ('輸入身高(m):'))\n",
        "w/=(h**2)\n",
        "print ('BMI:',w)\n",
        "if w<18.5:\n",
        "  print ('體位:過輕')\n",
        "elif 18.5<=w<=24:\n",
        "  print ('體位:適中')\n",
        "elif 24<=w<27:\n",
        "  print ('體位:過重')\n",
        "elif w>=27:\n",
        "  print ('體位:肥胖')"
      ],
      "metadata": {
        "colab": {
          "base_uri": "https://localhost:8080/"
        },
        "id": "NZjn_M16g5xP",
        "outputId": "3316fa6d-6153-4e3f-b8fc-05d77bb92a7c"
      },
      "execution_count": null,
      "outputs": [
        {
          "output_type": "stream",
          "name": "stdout",
          "text": [
            "輸入體重(kg):60\n",
            "輸入身高(m):1.73\n",
            "BMI: 20.04744562130375\n",
            "體位:適中\n"
          ]
        }
      ]
    }
  ]
}