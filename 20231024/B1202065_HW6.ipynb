{
  "nbformat": 4,
  "nbformat_minor": 0,
  "metadata": {
    "colab": {
      "provenance": []
    },
    "kernelspec": {
      "name": "python3",
      "display_name": "Python 3"
    },
    "language_info": {
      "name": "python"
    }
  },
  "cells": [
    {
      "cell_type": "code",
      "source": [
        "def top(x):\n",
        "  for i in range (1,x+1):\n",
        "    for j in range (x-i,0,-1):\n",
        "      print (\" \",end=\"\")\n",
        "    for k in range (2*i-1):\n",
        "      print (\"*\",end=\"\")\n",
        "    for m in range (x-i,0,-1):\n",
        "      print (\" \",end=\"\")\n",
        "    print ()\n",
        "h=int(input(\"輸入聖誕樹高度:\"))\n",
        "top(h)\n",
        "def bottom(x):\n",
        "  for n in range (5):\n",
        "    for a in range (x-2):\n",
        "      print (\" \",end=\"\")\n",
        "    for b in range (3):\n",
        "      print (\"*\",end=\"\")\n",
        "    for c in range (x-2):\n",
        "      print (\" \",end=\"\")\n",
        "    print ()\n",
        "bottom(h)"
      ],
      "metadata": {
        "colab": {
          "base_uri": "https://localhost:8080/"
        },
        "id": "RRr3sMslYVUf",
        "outputId": "28f02052-d6ef-463f-bfe9-51df1c8cd8d3"
      },
      "execution_count": null,
      "outputs": [
        {
          "output_type": "stream",
          "name": "stdout",
          "text": [
            "輸入聖誕樹高度:8\n",
            "       *       \n",
            "      ***      \n",
            "     *****     \n",
            "    *******    \n",
            "   *********   \n",
            "  ***********  \n",
            " ************* \n",
            "***************\n",
            "      ***      \n",
            "      ***      \n",
            "      ***      \n",
            "      ***      \n",
            "      ***      \n"
          ]
        }
      ]
    },
    {
      "cell_type": "code",
      "source": [
        "def bmi(h,w):\n",
        "  value=w/(h/100)**2\n",
        "  return value\n",
        "try:\n",
        "  h=float(input(\"身高(cm):\"))\n",
        "  w=float(input(\"體重(kg):\"))\n",
        "  type(h)==float\n",
        "  type(w)==float\n",
        "  print(\"BMI:\",bmi(h,w))\n",
        "  if bmi(h,w)<18.5:\n",
        "    print (\"體位:過輕\")\n",
        "  elif 18.5<=bmi(h,w)<24:\n",
        "    print (\"體位:適中\")\n",
        "  elif 24<=bmi(h,w)<27:\n",
        "    print (\"體位:過重\")\n",
        "  elif bmi(h,w)>=27:\n",
        "    print (\"體位:肥胖\")\n",
        "except:\n",
        "  print(\"輸入內容錯誤\")"
      ],
      "metadata": {
        "colab": {
          "base_uri": "https://localhost:8080/"
        },
        "id": "jqFU-U94QEuJ",
        "outputId": "3a027c19-ff98-4c43-ebab-41c15c36813f"
      },
      "execution_count": 11,
      "outputs": [
        {
          "output_type": "stream",
          "name": "stdout",
          "text": [
            "身高(cm):174\n",
            "體重(kg):58\n",
            "BMI: 19.157088122605362\n",
            "體位:適中\n"
          ]
        }
      ]
    }
  ]
}